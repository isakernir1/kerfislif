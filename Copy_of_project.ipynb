{
  "nbformat": 4,
  "nbformat_minor": 0,
  "metadata": {
    "colab": {
      "name": "Copy of project.ipynb",
      "provenance": [],
      "collapsed_sections": [],
      "include_colab_link": true
    },
    "kernelspec": {
      "display_name": "Python 3",
      "name": "python3"
    }
  },
  "cells": [
    {
      "cell_type": "markdown",
      "metadata": {
        "id": "view-in-github",
        "colab_type": "text"
      },
      "source": [
        "<a href=\"https://colab.research.google.com/github/isakernir1/kerfislif/blob/main/Copy_of_project.ipynb\" target=\"_parent\"><img src=\"https://colab.research.google.com/assets/colab-badge.svg\" alt=\"Open In Colab\"/></a>"
      ]
    },
    {
      "cell_type": "markdown",
      "metadata": {
        "id": "gBxFuUsG2qYR"
      },
      "source": [
        "# Load common Python modules"
      ]
    },
    {
      "cell_type": "code",
      "metadata": {
        "id": "MGqCFsQ0qZHw",
        "colab": {
          "base_uri": "https://localhost:8080/"
        },
        "outputId": "4490380b-5991-44c3-8a24-df4d0ab3140a"
      },
      "source": [
        "!cat /proc/cpuinfo\n",
        "import multiprocessing,multiprocessing.pool\n",
        "threads = 2"
      ],
      "execution_count": null,
      "outputs": [
        {
          "output_type": "stream",
          "text": [
            "processor\t: 0\n",
            "vendor_id\t: GenuineIntel\n",
            "cpu family\t: 6\n",
            "model\t\t: 79\n",
            "model name\t: Intel(R) Xeon(R) CPU @ 2.20GHz\n",
            "stepping\t: 0\n",
            "microcode\t: 0x1\n",
            "cpu MHz\t\t: 2199.998\n",
            "cache size\t: 56320 KB\n",
            "physical id\t: 0\n",
            "siblings\t: 2\n",
            "core id\t\t: 0\n",
            "cpu cores\t: 1\n",
            "apicid\t\t: 0\n",
            "initial apicid\t: 0\n",
            "fpu\t\t: yes\n",
            "fpu_exception\t: yes\n",
            "cpuid level\t: 13\n",
            "wp\t\t: yes\n",
            "flags\t\t: fpu vme de pse tsc msr pae mce cx8 apic sep mtrr pge mca cmov pat pse36 clflush mmx fxsr sse sse2 ss ht syscall nx pdpe1gb rdtscp lm constant_tsc rep_good nopl xtopology nonstop_tsc cpuid tsc_known_freq pni pclmulqdq ssse3 fma cx16 pcid sse4_1 sse4_2 x2apic movbe popcnt aes xsave avx f16c rdrand hypervisor lahf_lm abm 3dnowprefetch invpcid_single ssbd ibrs ibpb stibp fsgsbase tsc_adjust bmi1 hle avx2 smep bmi2 erms invpcid rtm rdseed adx smap xsaveopt arat md_clear arch_capabilities\n",
            "bugs\t\t: cpu_meltdown spectre_v1 spectre_v2 spec_store_bypass l1tf mds swapgs taa\n",
            "bogomips\t: 4399.99\n",
            "clflush size\t: 64\n",
            "cache_alignment\t: 64\n",
            "address sizes\t: 46 bits physical, 48 bits virtual\n",
            "power management:\n",
            "\n",
            "processor\t: 1\n",
            "vendor_id\t: GenuineIntel\n",
            "cpu family\t: 6\n",
            "model\t\t: 79\n",
            "model name\t: Intel(R) Xeon(R) CPU @ 2.20GHz\n",
            "stepping\t: 0\n",
            "microcode\t: 0x1\n",
            "cpu MHz\t\t: 2199.998\n",
            "cache size\t: 56320 KB\n",
            "physical id\t: 0\n",
            "siblings\t: 2\n",
            "core id\t\t: 0\n",
            "cpu cores\t: 1\n",
            "apicid\t\t: 1\n",
            "initial apicid\t: 1\n",
            "fpu\t\t: yes\n",
            "fpu_exception\t: yes\n",
            "cpuid level\t: 13\n",
            "wp\t\t: yes\n",
            "flags\t\t: fpu vme de pse tsc msr pae mce cx8 apic sep mtrr pge mca cmov pat pse36 clflush mmx fxsr sse sse2 ss ht syscall nx pdpe1gb rdtscp lm constant_tsc rep_good nopl xtopology nonstop_tsc cpuid tsc_known_freq pni pclmulqdq ssse3 fma cx16 pcid sse4_1 sse4_2 x2apic movbe popcnt aes xsave avx f16c rdrand hypervisor lahf_lm abm 3dnowprefetch invpcid_single ssbd ibrs ibpb stibp fsgsbase tsc_adjust bmi1 hle avx2 smep bmi2 erms invpcid rtm rdseed adx smap xsaveopt arat md_clear arch_capabilities\n",
            "bugs\t\t: cpu_meltdown spectre_v1 spectre_v2 spec_store_bypass l1tf mds swapgs taa\n",
            "bogomips\t: 4399.99\n",
            "clflush size\t: 64\n",
            "cache_alignment\t: 64\n",
            "address sizes\t: 46 bits physical, 48 bits virtual\n",
            "power management:\n",
            "\n"
          ],
          "name": "stdout"
        }
      ]
    },
    {
      "cell_type": "code",
      "metadata": {
        "id": "OEFwAr302Y5O"
      },
      "source": [
        "import numpy\n",
        "import matplotlib, matplotlib.pyplot\n",
        "# some matplotlib parameters to make figures look nice\n",
        "matplotlib.rcParams.update({'font.size':20, 'font.family':'sans-serif', 'xtick.labelsize':20, 'ytick.labelsize':20, 'axes.labelsize':20})"
      ],
      "execution_count": null,
      "outputs": []
    },
    {
      "cell_type": "markdown",
      "metadata": {
        "id": "blIesGqP1n84"
      },
      "source": [
        "# Install  and load modules related to cobra"
      ]
    },
    {
      "cell_type": "code",
      "metadata": {
        "id": "erst6l_4Q0QK",
        "colab": {
          "base_uri": "https://localhost:8080/"
        },
        "outputId": "485c386b-d3c7-4a4a-aff3-0261c8da55fc"
      },
      "source": [
        " !pip install rich==6.2.0\n",
        " !pip install cobra"
      ],
      "execution_count": null,
      "outputs": [
        {
          "output_type": "stream",
          "text": [
            "Collecting rich==6.2.0\n",
            "\u001b[?25l  Downloading https://files.pythonhosted.org/packages/58/2c/d04cb7fa7fdf8c89f3bc79b859b74f283369f78dc8caae3e1b91acc1d624/rich-6.2.0-py3-none-any.whl (150kB)\n",
            "\r\u001b[K     |██▏                             | 10kB 13.0MB/s eta 0:00:01\r\u001b[K     |████▍                           | 20kB 18.4MB/s eta 0:00:01\r\u001b[K     |██████▌                         | 30kB 22.2MB/s eta 0:00:01\r\u001b[K     |████████▊                       | 40kB 13.3MB/s eta 0:00:01\r\u001b[K     |███████████                     | 51kB 8.1MB/s eta 0:00:01\r\u001b[K     |█████████████                   | 61kB 7.4MB/s eta 0:00:01\r\u001b[K     |███████████████▎                | 71kB 8.2MB/s eta 0:00:01\r\u001b[K     |█████████████████▌              | 81kB 8.3MB/s eta 0:00:01\r\u001b[K     |███████████████████▋            | 92kB 8.1MB/s eta 0:00:01\r\u001b[K     |█████████████████████▉          | 102kB 7.9MB/s eta 0:00:01\r\u001b[K     |████████████████████████        | 112kB 7.9MB/s eta 0:00:01\r\u001b[K     |██████████████████████████▏     | 122kB 7.9MB/s eta 0:00:01\r\u001b[K     |████████████████████████████▍   | 133kB 7.9MB/s eta 0:00:01\r\u001b[K     |██████████████████████████████▋ | 143kB 7.9MB/s eta 0:00:01\r\u001b[K     |████████████████████████████████| 153kB 7.9MB/s \n",
            "\u001b[?25hRequirement already satisfied: pygments<3.0.0,>=2.6.0 in /usr/local/lib/python3.7/dist-packages (from rich==6.2.0) (2.6.1)\n",
            "Requirement already satisfied: typing-extensions<4.0.0,>=3.7.4 in /usr/local/lib/python3.7/dist-packages (from rich==6.2.0) (3.7.4.3)\n",
            "Collecting commonmark<0.10.0,>=0.9.0\n",
            "\u001b[?25l  Downloading https://files.pythonhosted.org/packages/b1/92/dfd892312d822f36c55366118b95d914e5f16de11044a27cf10a7d71bbbf/commonmark-0.9.1-py2.py3-none-any.whl (51kB)\n",
            "\u001b[K     |████████████████████████████████| 51kB 5.1MB/s \n",
            "\u001b[?25hCollecting colorama<0.5.0,>=0.4.0\n",
            "  Downloading https://files.pythonhosted.org/packages/44/98/5b86278fbbf250d239ae0ecb724f8572af1c91f4a11edf4d36a206189440/colorama-0.4.4-py2.py3-none-any.whl\n",
            "Installing collected packages: commonmark, colorama, rich\n",
            "Successfully installed colorama-0.4.4 commonmark-0.9.1 rich-6.2.0\n",
            "Collecting cobra\n",
            "\u001b[?25l  Downloading https://files.pythonhosted.org/packages/9c/c0/bea19dbbe6e4907a591272100717f491b82ff8a485b4ff1528182532bbcf/cobra-0.21.0-py2.py3-none-any.whl (2.4MB)\n",
            "\u001b[K     |████████████████████████████████| 2.4MB 8.6MB/s \n",
            "\u001b[?25hCollecting depinfo\n",
            "  Downloading https://files.pythonhosted.org/packages/af/8b/cee6dca4c4708705444c9cad9e783b9212cc51cab8a5e05ccfe930f53058/depinfo-1.7.0-py2.py3-none-any.whl\n",
            "Requirement already satisfied: numpy~=1.13 in /usr/local/lib/python3.7/dist-packages (from cobra) (1.19.5)\n",
            "Collecting ruamel.yaml~=0.16\n",
            "\u001b[?25l  Downloading https://files.pythonhosted.org/packages/29/4e/c3105bbbbc662f6a671a505f00ec771e93b5254f09fbb06002af9087071a/ruamel.yaml-0.17.4-py3-none-any.whl (101kB)\n",
            "\u001b[K     |████████████████████████████████| 102kB 8.0MB/s \n",
            "\u001b[?25hCollecting diskcache~=5.0\n",
            "\u001b[?25l  Downloading https://files.pythonhosted.org/packages/6a/5e/3deb8f9c83bead2af6f2cda97c4400516488464fede2853875a81e502953/diskcache-5.2.1-py3-none-any.whl (44kB)\n",
            "\u001b[K     |████████████████████████████████| 51kB 5.6MB/s \n",
            "\u001b[?25hCollecting python-libsbml==5.19.0\n",
            "\u001b[?25l  Downloading https://files.pythonhosted.org/packages/93/13/2df22b77ee9125381a00aa4dc63de1776bb84d773655d2770416e81416cd/python_libsbml-5.19.0-cp37-cp37m-manylinux1_x86_64.whl (6.2MB)\n",
            "\u001b[K     |████████████████████████████████| 6.2MB 20.9MB/s \n",
            "\u001b[?25hRequirement already satisfied: importlib-resources in /usr/local/lib/python3.7/dist-packages (from cobra) (5.1.2)\n",
            "Collecting swiglpk\n",
            "\u001b[?25l  Downloading https://files.pythonhosted.org/packages/80/48/ff3ce61567f667629268b272d4c57f980ff0a8d4bdf991a593be12384186/swiglpk-5.0.3-cp37-cp37m-manylinux2010_x86_64.whl (2.1MB)\n",
            "\u001b[K     |████████████████████████████████| 2.1MB 43.5MB/s \n",
            "\u001b[?25hRequirement already satisfied: six in /usr/local/lib/python3.7/dist-packages (from cobra) (1.15.0)\n",
            "Requirement already satisfied: future in /usr/local/lib/python3.7/dist-packages (from cobra) (0.16.0)\n",
            "Collecting optlang<1.4.6\n",
            "\u001b[?25l  Downloading https://files.pythonhosted.org/packages/5b/6a/25e8c4a0b487e5e23b968942e85a52e3072b38ddb3619e52e89c2e822d65/optlang-1.4.4-py2.py3-none-any.whl (125kB)\n",
            "\u001b[K     |████████████████████████████████| 133kB 35.6MB/s \n",
            "\u001b[?25hRequirement already satisfied: pandas~=1.0 in /usr/local/lib/python3.7/dist-packages (from cobra) (1.1.5)\n",
            "Requirement already satisfied: rich~=6.0 in /usr/local/lib/python3.7/dist-packages (from cobra) (6.2.0)\n",
            "Collecting pydantic~=1.6\n",
            "\u001b[?25l  Downloading https://files.pythonhosted.org/packages/2b/a3/0ffdb6c63f45f10d19b8e8b32670b22ed089cafb29732f6bf8ce518821fb/pydantic-1.8.1-cp37-cp37m-manylinux2014_x86_64.whl (10.1MB)\n",
            "\u001b[K     |████████████████████████████████| 10.1MB 28.1MB/s \n",
            "\u001b[?25hRequirement already satisfied: appdirs~=1.4 in /usr/local/lib/python3.7/dist-packages (from cobra) (1.4.4)\n",
            "Collecting httpx~=0.14\n",
            "\u001b[?25l  Downloading https://files.pythonhosted.org/packages/6f/87/241b482701ba3d58831a4af50bf2880259dc7c11a89504a3b0d70fa298cd/httpx-0.17.1-py3-none-any.whl (68kB)\n",
            "\u001b[K     |████████████████████████████████| 71kB 2.3MB/s \n",
            "\u001b[?25hRequirement already satisfied: importlib-metadata; python_version < \"3.8\" in /usr/local/lib/python3.7/dist-packages (from depinfo->cobra) (3.8.1)\n",
            "Collecting ruamel.yaml.clib>=0.1.2; platform_python_implementation == \"CPython\" and python_version < \"3.10\"\n",
            "\u001b[?25l  Downloading https://files.pythonhosted.org/packages/5e/6e/f652c56bbb2c3d3fca252ffc7c0358597f57a1bbdf484dac683054950c63/ruamel.yaml.clib-0.2.2-cp37-cp37m-manylinux1_x86_64.whl (547kB)\n",
            "\u001b[K     |████████████████████████████████| 552kB 42.4MB/s \n",
            "\u001b[?25hRequirement already satisfied: zipp>=0.4; python_version < \"3.8\" in /usr/local/lib/python3.7/dist-packages (from importlib-resources->cobra) (3.4.1)\n",
            "Requirement already satisfied: sympy>=1.0.0 in /usr/local/lib/python3.7/dist-packages (from optlang<1.4.6->cobra) (1.7.1)\n",
            "Requirement already satisfied: python-dateutil>=2.7.3 in /usr/local/lib/python3.7/dist-packages (from pandas~=1.0->cobra) (2.8.1)\n",
            "Requirement already satisfied: pytz>=2017.2 in /usr/local/lib/python3.7/dist-packages (from pandas~=1.0->cobra) (2018.9)\n",
            "Requirement already satisfied: commonmark<0.10.0,>=0.9.0 in /usr/local/lib/python3.7/dist-packages (from rich~=6.0->cobra) (0.9.1)\n",
            "Requirement already satisfied: colorama<0.5.0,>=0.4.0 in /usr/local/lib/python3.7/dist-packages (from rich~=6.0->cobra) (0.4.4)\n",
            "Requirement already satisfied: typing-extensions<4.0.0,>=3.7.4 in /usr/local/lib/python3.7/dist-packages (from rich~=6.0->cobra) (3.7.4.3)\n",
            "Requirement already satisfied: pygments<3.0.0,>=2.6.0 in /usr/local/lib/python3.7/dist-packages (from rich~=6.0->cobra) (2.6.1)\n",
            "Collecting sniffio\n",
            "  Downloading https://files.pythonhosted.org/packages/52/b0/7b2e028b63d092804b6794595871f936aafa5e9322dcaaad50ebf67445b3/sniffio-1.2.0-py3-none-any.whl\n",
            "Requirement already satisfied: certifi in /usr/local/lib/python3.7/dist-packages (from httpx~=0.14->cobra) (2020.12.5)\n",
            "Collecting httpcore<0.13,>=0.12.1\n",
            "\u001b[?25l  Downloading https://files.pythonhosted.org/packages/50/ce/544244e2145075896d38f7db3e822c24d1be9f7966ed3d83f158e388d195/httpcore-0.12.3-py3-none-any.whl (55kB)\n",
            "\u001b[K     |████████████████████████████████| 61kB 6.7MB/s \n",
            "\u001b[?25hCollecting rfc3986[idna2008]<2,>=1.3\n",
            "  Downloading https://files.pythonhosted.org/packages/78/be/7b8b99fd74ff5684225f50dd0e865393d2265656ef3b4ba9eaaaffe622b8/rfc3986-1.4.0-py2.py3-none-any.whl\n",
            "Requirement already satisfied: mpmath>=0.19 in /usr/local/lib/python3.7/dist-packages (from sympy>=1.0.0->optlang<1.4.6->cobra) (1.2.1)\n",
            "Collecting h11==0.*\n",
            "\u001b[?25l  Downloading https://files.pythonhosted.org/packages/60/0f/7a0eeea938eaf61074f29fed9717f2010e8d0e0905d36b38d3275a1e4622/h11-0.12.0-py3-none-any.whl (54kB)\n",
            "\u001b[K     |████████████████████████████████| 61kB 6.4MB/s \n",
            "\u001b[?25hRequirement already satisfied: idna; extra == \"idna2008\" in /usr/local/lib/python3.7/dist-packages (from rfc3986[idna2008]<2,>=1.3->httpx~=0.14->cobra) (2.10)\n",
            "Installing collected packages: depinfo, ruamel.yaml.clib, ruamel.yaml, diskcache, python-libsbml, swiglpk, optlang, pydantic, sniffio, h11, httpcore, rfc3986, httpx, cobra\n",
            "Successfully installed cobra-0.21.0 depinfo-1.7.0 diskcache-5.2.1 h11-0.12.0 httpcore-0.12.3 httpx-0.17.1 optlang-1.4.4 pydantic-1.8.1 python-libsbml-5.19.0 rfc3986-1.4.0 ruamel.yaml-0.17.4 ruamel.yaml.clib-0.2.2 sniffio-1.2.0 swiglpk-5.0.3\n"
          ],
          "name": "stdout"
        }
      ]
    },
    {
      "cell_type": "code",
      "metadata": {
        "id": "kA4Mp7W3W50-"
      },
      "source": [
        "import cobra.test\n",
        "from cobra import Model, Reaction, Metabolite\n",
        "from cobra.util.solver import linear_reaction_coefficients"
      ],
      "execution_count": null,
      "outputs": []
    },
    {
      "cell_type": "markdown",
      "metadata": {
        "id": "DbCVpokD20_h"
      },
      "source": [
        "# Load model"
      ]
    },
    {
      "cell_type": "code",
      "metadata": {
        "colab": {
          "base_uri": "https://localhost:8080/",
          "height": 747
        },
        "id": "MCjNOaP3W8cv",
        "outputId": "7703a008-4257-401b-8c05-6d3a82c1d8dc"
      },
      "source": [
        "model = cobra.io.load_json_model('iIsor850.json')\n",
        "model.summary()"
      ],
      "execution_count": null,
      "outputs": [
        {
          "output_type": "execute_result",
          "data": {
            "text/html": [
              "<h3>Objective</h3><p>1.0 Biomass_Isor = 1.0331402662636096</p><h4>Uptake</h4><table border=\"1\" class=\"dataframe\">\n",
              "  <thead>\n",
              "    <tr style=\"text-align: right;\">\n",
              "      <th>Metabolite</th>\n",
              "      <th>Reaction</th>\n",
              "      <th>Flux</th>\n",
              "      <th>C-Number</th>\n",
              "      <th>C-Flux</th>\n",
              "    </tr>\n",
              "  </thead>\n",
              "  <tbody>\n",
              "    <tr>\n",
              "      <td>btn_c</td>\n",
              "      <td>EX_btn_c</td>\n",
              "      <td>0.0001033</td>\n",
              "      <td>10</td>\n",
              "      <td>0.00%</td>\n",
              "    </tr>\n",
              "    <tr>\n",
              "      <td>ca2_e</td>\n",
              "      <td>EX_ca2_e</td>\n",
              "      <td>0.001329</td>\n",
              "      <td>0</td>\n",
              "      <td>0.00%</td>\n",
              "    </tr>\n",
              "    <tr>\n",
              "      <td>cu2_e</td>\n",
              "      <td>EX_cu2_e</td>\n",
              "      <td>0.0001178</td>\n",
              "      <td>0</td>\n",
              "      <td>0.00%</td>\n",
              "    </tr>\n",
              "    <tr>\n",
              "      <td>fe2_e</td>\n",
              "      <td>EX_fe2_e</td>\n",
              "      <td>0.0007893</td>\n",
              "      <td>0</td>\n",
              "      <td>0.00%</td>\n",
              "    </tr>\n",
              "    <tr>\n",
              "      <td>glc__D_e</td>\n",
              "      <td>EX_glc__D_e</td>\n",
              "      <td>10</td>\n",
              "      <td>6</td>\n",
              "      <td>100.00%</td>\n",
              "    </tr>\n",
              "    <tr>\n",
              "      <td>k_e</td>\n",
              "      <td>EX_k_e</td>\n",
              "      <td>0.6237</td>\n",
              "      <td>0</td>\n",
              "      <td>0.00%</td>\n",
              "    </tr>\n",
              "    <tr>\n",
              "      <td>mg2_e</td>\n",
              "      <td>EX_mg2_e</td>\n",
              "      <td>0.06571</td>\n",
              "      <td>0</td>\n",
              "      <td>0.00%</td>\n",
              "    </tr>\n",
              "    <tr>\n",
              "      <td>mn2_e</td>\n",
              "      <td>EX_mn2_e</td>\n",
              "      <td>9.712E-05</td>\n",
              "      <td>0</td>\n",
              "      <td>0.00%</td>\n",
              "    </tr>\n",
              "    <tr>\n",
              "      <td>nh4_e</td>\n",
              "      <td>EX_nh4_e</td>\n",
              "      <td>6.879</td>\n",
              "      <td>0</td>\n",
              "      <td>0.00%</td>\n",
              "    </tr>\n",
              "    <tr>\n",
              "      <td>o2_e</td>\n",
              "      <td>EX_o2_e</td>\n",
              "      <td>18.21</td>\n",
              "      <td>0</td>\n",
              "      <td>0.00%</td>\n",
              "    </tr>\n",
              "    <tr>\n",
              "      <td>pi_e</td>\n",
              "      <td>EX_pi_e</td>\n",
              "      <td>0.4426</td>\n",
              "      <td>0</td>\n",
              "      <td>0.00%</td>\n",
              "    </tr>\n",
              "    <tr>\n",
              "      <td>so4_e</td>\n",
              "      <td>EX_so4_e</td>\n",
              "      <td>0.0871</td>\n",
              "      <td>0</td>\n",
              "      <td>0.00%</td>\n",
              "    </tr>\n",
              "    <tr>\n",
              "      <td>zn2_e</td>\n",
              "      <td>EX_zn2_e</td>\n",
              "      <td>0.001628</td>\n",
              "      <td>0</td>\n",
              "      <td>0.00%</td>\n",
              "    </tr>\n",
              "  </tbody>\n",
              "</table><h4>Secretion</h4><table border=\"1\" class=\"dataframe\">\n",
              "  <thead>\n",
              "    <tr style=\"text-align: right;\">\n",
              "      <th>Metabolite</th>\n",
              "      <th>Reaction</th>\n",
              "      <th>Flux</th>\n",
              "      <th>C-Number</th>\n",
              "      <th>C-Flux</th>\n",
              "    </tr>\n",
              "  </thead>\n",
              "  <tbody>\n",
              "    <tr>\n",
              "      <td>co2_e</td>\n",
              "      <td>EX_co2_e</td>\n",
              "      <td>-19.51</td>\n",
              "      <td>1</td>\n",
              "      <td>100.00%</td>\n",
              "    </tr>\n",
              "    <tr>\n",
              "      <td>gcald_e</td>\n",
              "      <td>EX_gcald_e</td>\n",
              "      <td>-0.0002066</td>\n",
              "      <td>2</td>\n",
              "      <td>0.00%</td>\n",
              "    </tr>\n",
              "    <tr>\n",
              "      <td>h2o_e</td>\n",
              "      <td>EX_h2o_e</td>\n",
              "      <td>-38.37</td>\n",
              "      <td>0</td>\n",
              "      <td>0.00%</td>\n",
              "    </tr>\n",
              "    <tr>\n",
              "      <td>h_e</td>\n",
              "      <td>EX_h_e</td>\n",
              "      <td>-2.429</td>\n",
              "      <td>0</td>\n",
              "      <td>0.00%</td>\n",
              "    </tr>\n",
              "  </tbody>\n",
              "</table>"
            ],
            "text/plain": [
              "<cobra.summary.model_summary.ModelSummary at 0x7ff13a247290>"
            ]
          },
          "metadata": {
            "tags": []
          },
          "execution_count": 5
        }
      ]
    },
    {
      "cell_type": "markdown",
      "metadata": {
        "id": "OMRPOh4t3Bk6"
      },
      "source": [
        "# Double-KO analysis"
      ]
    },
    {
      "cell_type": "code",
      "metadata": {
        "id": "Rv7wxF76YJlB"
      },
      "source": [
        "def get_pairs(rxns):\n",
        "\n",
        "  \"\"\"\n",
        "  Returns a list of reaction pairs from rxns\n",
        "  \"\"\"\n",
        "\n",
        "  working_pairs = []\n",
        "  for i in range(len(rxns)):\n",
        "    for j in range(len(rxns)):\n",
        "      if i < j:\n",
        "        pair = (str(rxns[i].id), str(rxns[j].id))\n",
        "        working_pairs.append(pair)\n",
        "\n",
        "  return working_pairs"
      ],
      "execution_count": null,
      "outputs": []
    },
    {
      "cell_type": "code",
      "metadata": {
        "id": "nyvJEBUZdrx3"
      },
      "source": [
        "def genetic_interventioner(pair):\n",
        "\n",
        "  '''\n",
        "  This function returns a phenotype given a pair of genes to KO.\n",
        "  '''\n",
        "  \n",
        "  model = cobra.io.load_json_model('iIsor850.json')\n",
        "\n",
        "  model.reactions.get_by_id(pair[0]).lower_bound = 0\n",
        "  model.reactions.get_by_id(pair[0]).upper_bound = 0\n",
        "  model.reactions.get_by_id(pair[1]).lower_bound = 0\n",
        "  model.reactions.get_by_id(pair[1]).upper_bound = 0\n",
        "\n",
        "  sol = model.optimize()\n",
        "\n",
        "  if sol.status != 'optimal':\n",
        "    Vbio_max = 0\n",
        "  else:\n",
        "    Vbio_max = sol.objective_value\n",
        "\n",
        "  model.objective = molecule_of_interest #set objective to target given chemical\n",
        "  model.reactions.get_by_id('Biomass_Isor').lower_bound = Vbio_max\n",
        "  maximum = model.optimize(objective_sense='maximize').objective_value\n",
        "  minimum = model.optimize(objective_sense='minimize').objective_value\n",
        "\n",
        "  phenotype = [pair, Vbio_max, minimum, maximum]\n",
        "\n",
        "  return phenotype"
      ],
      "execution_count": null,
      "outputs": []
    },
    {
      "cell_type": "code",
      "metadata": {
        "id": "DdMwUaTN8m5v"
      },
      "source": [
        "def filter_reactions(model):\n",
        "  with model:\n",
        "    reactions_to_remove = [] #Clean list\n",
        "    for reaction in model.reactions: #Iterate over the reactions\n",
        "      model2 = model.copy()\n",
        "      id = reaction.id #Get the ID, e.g. 'EX_ac_e'\n",
        "      subsystem = reaction.subsystem \n",
        "      if id[-1] == 't': #if last char is t, remove it \n",
        "        reactions_to_remove.append(id)\n",
        "      elif id[0:3] == 'EX_': #if the first letters are EX_ (exhange), remove it \n",
        "        reactions_to_remove.append(id)\n",
        "      elif subsystem == 'Transport': \n",
        "        reactions_to_remove.append(id)\n",
        "      elif id[-3:] == 't2r':\n",
        "        reactions_to_remove.append(id)\n",
        "      else:\n",
        "        model2.reactions.get_by_id(reaction.id).lower_bound = 0\n",
        "        model2.reactions.get_by_id(reaction.id).upper_bound = 0\n",
        "        sol_tmp = model2.optimize()\n",
        "        if sol_tmp.objective_value < 1e-4:\n",
        "          reactions_to_remove.append(id)\n",
        "  model3 = model.copy()\n",
        "  model3.remove_reactions(reactions_to_remove) #Remove those reactions\n",
        "  rxns = model3.reactions #DictList of reactions after removal. \n",
        "  return rxns"
      ],
      "execution_count": null,
      "outputs": []
    },
    {
      "cell_type": "code",
      "metadata": {
        "colab": {
          "base_uri": "https://localhost:8080/"
        },
        "id": "7QKU16Dj9DCB",
        "outputId": "d122d132-d589-43eb-a7bc-e11076f4a017"
      },
      "source": [
        "# identify molecule of interest\n",
        "molecule_of_interest = 'EX_fum_e'\n",
        "\n",
        "# Identify the reactions of interest:\n",
        "rxns_to_test = filter_reactions(model)\n",
        "print('selected {} reactions to work with'.format(len(rxns_to_test)))"
      ],
      "execution_count": null,
      "outputs": [
        {
          "output_type": "stream",
          "text": [
            "/usr/local/lib/python3.7/dist-packages/cobra/util/solver.py:508: UserWarning: Solver status is 'infeasible'.\n",
            "  warn(f\"Solver status is '{status}'.\", UserWarning)\n"
          ],
          "name": "stderr"
        },
        {
          "output_type": "stream",
          "text": [
            "selected 815 reactions to work with\n"
          ],
          "name": "stdout"
        }
      ]
    },
    {
      "cell_type": "markdown",
      "metadata": {
        "id": "09_Co-VkcxPu"
      },
      "source": [
        "## find the best growth-coupled design"
      ]
    },
    {
      "cell_type": "code",
      "metadata": {
        "id": "RxUs6jLSc2JN",
        "colab": {
          "base_uri": "https://localhost:8080/"
        },
        "outputId": "8fc86933-e7c7-404d-c0e8-1bd86d4bd0b4"
      },
      "source": [
        "#pairs = get_pairs(rxns_to_test[:10])\n",
        "pairs = get_pairs(rxns_to_test)\n",
        "#pairs500 = pairs[:500]\n",
        "print('{} reactions implies {} testing pairs'.format(len(rxns_to_test), len(pairs)))"
      ],
      "execution_count": null,
      "outputs": [
        {
          "output_type": "stream",
          "text": [
            "815 reactions implies 331705 testing pairs\n"
          ],
          "name": "stdout"
        }
      ]
    },
    {
      "cell_type": "markdown",
      "metadata": {
        "id": "xvX4qIaufPAs"
      },
      "source": [
        "Initial serial approach took 4min 38s\n",
        "Current simplified serial approach takes xx\n",
        "Parallel approach takes xx"
      ]
    },
    {
      "cell_type": "code",
      "metadata": {
        "colab": {
          "base_uri": "https://localhost:8080/"
        },
        "id": "TT3OYOS9j0ss",
        "outputId": "39bd1a5e-0b5a-44eb-ee6b-695ca530b602"
      },
      "source": [
        "%%time\n",
        "phenotypes = []\n",
        "for pair in pairs:\n",
        "  phenotype = genetic_interventioner(pair)\n",
        "  phenotypes.append(phenotype)"
      ],
      "execution_count": null,
      "outputs": [
        {
          "output_type": "stream",
          "text": [
            "CPU times: user 15min 12s, sys: 31.4 s, total: 15min 44s\n",
            "Wall time: 15min 46s\n"
          ],
          "name": "stdout"
        }
      ]
    },
    {
      "cell_type": "markdown",
      "metadata": {
        "id": "6HmuMvuK31RY"
      },
      "source": [
        "The code above took 15-ish minutes for 500 reaction pairs"
      ]
    },
    {
      "cell_type": "code",
      "metadata": {
        "colab": {
          "base_uri": "https://localhost:8080/"
        },
        "id": "p6mcDOEtwenP",
        "outputId": "b12b0d22-e43b-4b56-c587-95d88617d353"
      },
      "source": [
        "best_pair = None; best_min = 0\n",
        "for phenotype in phenotypes:\n",
        "  if phenotype[2] > best_min:\n",
        "    best_pair = phenotype; best_min = phenotype[2]\n",
        "print(best_pair)"
      ],
      "execution_count": null,
      "outputs": [
        {
          "output_type": "stream",
          "text": [
            "None\n"
          ],
          "name": "stdout"
        }
      ]
    },
    {
      "cell_type": "code",
      "metadata": {
        "id": "unN7qhCyp948",
        "colab": {
          "base_uri": "https://localhost:8080/",
          "height": 902
        },
        "outputId": "0831b76a-d9bd-435e-85ed-70c65cc619de"
      },
      "source": [
        "%%time\n",
        "hydra = multiprocessing.pool.Pool(threads)\n",
        "phenotypes = hydra.map(genetic_interventioner, pairs)\n",
        "hydra.close()"
      ],
      "execution_count": null,
      "outputs": [
        {
          "output_type": "stream",
          "text": [
            "Process ForkPoolWorker-9:\n",
            "Process ForkPoolWorker-10:\n",
            "Traceback (most recent call last):\n",
            "Traceback (most recent call last):\n",
            "  File \"/usr/lib/python3.7/multiprocessing/process.py\", line 297, in _bootstrap\n",
            "    self.run()\n",
            "  File \"/usr/lib/python3.7/multiprocessing/process.py\", line 297, in _bootstrap\n",
            "    self.run()\n",
            "  File \"/usr/lib/python3.7/multiprocessing/process.py\", line 99, in run\n",
            "    self._target(*self._args, **self._kwargs)\n",
            "  File \"/usr/lib/python3.7/multiprocessing/pool.py\", line 110, in worker\n",
            "    task = get()\n",
            "  File \"/usr/lib/python3.7/multiprocessing/queues.py\", line 352, in get\n",
            "    res = self._reader.recv_bytes()\n",
            "  File \"/usr/lib/python3.7/multiprocessing/process.py\", line 99, in run\n",
            "    self._target(*self._args, **self._kwargs)\n",
            "  File \"/usr/lib/python3.7/multiprocessing/pool.py\", line 110, in worker\n",
            "    task = get()\n",
            "  File \"/usr/lib/python3.7/multiprocessing/connection.py\", line 216, in recv_bytes\n",
            "    buf = self._recv_bytes(maxlength)\n",
            "  File \"/usr/lib/python3.7/multiprocessing/connection.py\", line 407, in _recv_bytes\n",
            "    buf = self._recv(4)\n",
            "  File \"/usr/lib/python3.7/multiprocessing/queues.py\", line 351, in get\n",
            "    with self._rlock:\n",
            "  File \"/usr/lib/python3.7/multiprocessing/connection.py\", line 379, in _recv\n",
            "    chunk = read(handle, remaining)\n",
            "  File \"/usr/lib/python3.7/multiprocessing/synchronize.py\", line 95, in __enter__\n",
            "    return self._semlock.__enter__()\n",
            "KeyboardInterrupt\n",
            "KeyboardInterrupt\n"
          ],
          "name": "stderr"
        },
        {
          "output_type": "error",
          "ename": "KeyboardInterrupt",
          "evalue": "ignored",
          "traceback": [
            "\u001b[0;31m---------------------------------------------------------------------------\u001b[0m",
            "\u001b[0;31mKeyboardInterrupt\u001b[0m                         Traceback (most recent call last)",
            "\u001b[0;32m<ipython-input-14-46c15c3e57a9>\u001b[0m in \u001b[0;36m<module>\u001b[0;34m()\u001b[0m\n\u001b[0;32m----> 1\u001b[0;31m \u001b[0mget_ipython\u001b[0m\u001b[0;34m(\u001b[0m\u001b[0;34m)\u001b[0m\u001b[0;34m.\u001b[0m\u001b[0mrun_cell_magic\u001b[0m\u001b[0;34m(\u001b[0m\u001b[0;34m'time'\u001b[0m\u001b[0;34m,\u001b[0m \u001b[0;34m''\u001b[0m\u001b[0;34m,\u001b[0m \u001b[0;34m'hydra = multiprocessing.pool.Pool(threads)\\nphenotypes = hydra.map(genetic_interventioner, pairs500)\\nhydra.close()'\u001b[0m\u001b[0;34m)\u001b[0m\u001b[0;34m\u001b[0m\u001b[0;34m\u001b[0m\u001b[0m\n\u001b[0m",
            "\u001b[0;32m/usr/local/lib/python3.7/dist-packages/IPython/core/interactiveshell.py\u001b[0m in \u001b[0;36mrun_cell_magic\u001b[0;34m(self, magic_name, line, cell)\u001b[0m\n\u001b[1;32m   2115\u001b[0m             \u001b[0mmagic_arg_s\u001b[0m \u001b[0;34m=\u001b[0m \u001b[0mself\u001b[0m\u001b[0;34m.\u001b[0m\u001b[0mvar_expand\u001b[0m\u001b[0;34m(\u001b[0m\u001b[0mline\u001b[0m\u001b[0;34m,\u001b[0m \u001b[0mstack_depth\u001b[0m\u001b[0;34m)\u001b[0m\u001b[0;34m\u001b[0m\u001b[0;34m\u001b[0m\u001b[0m\n\u001b[1;32m   2116\u001b[0m             \u001b[0;32mwith\u001b[0m \u001b[0mself\u001b[0m\u001b[0;34m.\u001b[0m\u001b[0mbuiltin_trap\u001b[0m\u001b[0;34m:\u001b[0m\u001b[0;34m\u001b[0m\u001b[0;34m\u001b[0m\u001b[0m\n\u001b[0;32m-> 2117\u001b[0;31m                 \u001b[0mresult\u001b[0m \u001b[0;34m=\u001b[0m \u001b[0mfn\u001b[0m\u001b[0;34m(\u001b[0m\u001b[0mmagic_arg_s\u001b[0m\u001b[0;34m,\u001b[0m \u001b[0mcell\u001b[0m\u001b[0;34m)\u001b[0m\u001b[0;34m\u001b[0m\u001b[0;34m\u001b[0m\u001b[0m\n\u001b[0m\u001b[1;32m   2118\u001b[0m             \u001b[0;32mreturn\u001b[0m \u001b[0mresult\u001b[0m\u001b[0;34m\u001b[0m\u001b[0;34m\u001b[0m\u001b[0m\n\u001b[1;32m   2119\u001b[0m \u001b[0;34m\u001b[0m\u001b[0m\n",
            "\u001b[0;32m<decorator-gen-53>\u001b[0m in \u001b[0;36mtime\u001b[0;34m(self, line, cell, local_ns)\u001b[0m\n",
            "\u001b[0;32m/usr/local/lib/python3.7/dist-packages/IPython/core/magic.py\u001b[0m in \u001b[0;36m<lambda>\u001b[0;34m(f, *a, **k)\u001b[0m\n\u001b[1;32m    186\u001b[0m     \u001b[0;31m# but it's overkill for just that one bit of state.\u001b[0m\u001b[0;34m\u001b[0m\u001b[0;34m\u001b[0m\u001b[0;34m\u001b[0m\u001b[0m\n\u001b[1;32m    187\u001b[0m     \u001b[0;32mdef\u001b[0m \u001b[0mmagic_deco\u001b[0m\u001b[0;34m(\u001b[0m\u001b[0marg\u001b[0m\u001b[0;34m)\u001b[0m\u001b[0;34m:\u001b[0m\u001b[0;34m\u001b[0m\u001b[0;34m\u001b[0m\u001b[0m\n\u001b[0;32m--> 188\u001b[0;31m         \u001b[0mcall\u001b[0m \u001b[0;34m=\u001b[0m \u001b[0;32mlambda\u001b[0m \u001b[0mf\u001b[0m\u001b[0;34m,\u001b[0m \u001b[0;34m*\u001b[0m\u001b[0ma\u001b[0m\u001b[0;34m,\u001b[0m \u001b[0;34m**\u001b[0m\u001b[0mk\u001b[0m\u001b[0;34m:\u001b[0m \u001b[0mf\u001b[0m\u001b[0;34m(\u001b[0m\u001b[0;34m*\u001b[0m\u001b[0ma\u001b[0m\u001b[0;34m,\u001b[0m \u001b[0;34m**\u001b[0m\u001b[0mk\u001b[0m\u001b[0;34m)\u001b[0m\u001b[0;34m\u001b[0m\u001b[0;34m\u001b[0m\u001b[0m\n\u001b[0m\u001b[1;32m    189\u001b[0m \u001b[0;34m\u001b[0m\u001b[0m\n\u001b[1;32m    190\u001b[0m         \u001b[0;32mif\u001b[0m \u001b[0mcallable\u001b[0m\u001b[0;34m(\u001b[0m\u001b[0marg\u001b[0m\u001b[0;34m)\u001b[0m\u001b[0;34m:\u001b[0m\u001b[0;34m\u001b[0m\u001b[0;34m\u001b[0m\u001b[0m\n",
            "\u001b[0;32m/usr/local/lib/python3.7/dist-packages/IPython/core/magics/execution.py\u001b[0m in \u001b[0;36mtime\u001b[0;34m(self, line, cell, local_ns)\u001b[0m\n\u001b[1;32m   1191\u001b[0m         \u001b[0;32melse\u001b[0m\u001b[0;34m:\u001b[0m\u001b[0;34m\u001b[0m\u001b[0;34m\u001b[0m\u001b[0m\n\u001b[1;32m   1192\u001b[0m             \u001b[0mst\u001b[0m \u001b[0;34m=\u001b[0m \u001b[0mclock2\u001b[0m\u001b[0;34m(\u001b[0m\u001b[0;34m)\u001b[0m\u001b[0;34m\u001b[0m\u001b[0;34m\u001b[0m\u001b[0m\n\u001b[0;32m-> 1193\u001b[0;31m             \u001b[0mexec\u001b[0m\u001b[0;34m(\u001b[0m\u001b[0mcode\u001b[0m\u001b[0;34m,\u001b[0m \u001b[0mglob\u001b[0m\u001b[0;34m,\u001b[0m \u001b[0mlocal_ns\u001b[0m\u001b[0;34m)\u001b[0m\u001b[0;34m\u001b[0m\u001b[0;34m\u001b[0m\u001b[0m\n\u001b[0m\u001b[1;32m   1194\u001b[0m             \u001b[0mend\u001b[0m \u001b[0;34m=\u001b[0m \u001b[0mclock2\u001b[0m\u001b[0;34m(\u001b[0m\u001b[0;34m)\u001b[0m\u001b[0;34m\u001b[0m\u001b[0;34m\u001b[0m\u001b[0m\n\u001b[1;32m   1195\u001b[0m             \u001b[0mout\u001b[0m \u001b[0;34m=\u001b[0m \u001b[0;32mNone\u001b[0m\u001b[0;34m\u001b[0m\u001b[0;34m\u001b[0m\u001b[0m\n",
            "\u001b[0;32m<timed exec>\u001b[0m in \u001b[0;36m<module>\u001b[0;34m()\u001b[0m\n",
            "\u001b[0;32m/usr/lib/python3.7/multiprocessing/pool.py\u001b[0m in \u001b[0;36mmap\u001b[0;34m(self, func, iterable, chunksize)\u001b[0m\n\u001b[1;32m    266\u001b[0m         \u001b[0;32min\u001b[0m \u001b[0ma\u001b[0m \u001b[0mlist\u001b[0m \u001b[0mthat\u001b[0m \u001b[0;32mis\u001b[0m \u001b[0mreturned\u001b[0m\u001b[0;34m.\u001b[0m\u001b[0;34m\u001b[0m\u001b[0;34m\u001b[0m\u001b[0m\n\u001b[1;32m    267\u001b[0m         '''\n\u001b[0;32m--> 268\u001b[0;31m         \u001b[0;32mreturn\u001b[0m \u001b[0mself\u001b[0m\u001b[0;34m.\u001b[0m\u001b[0m_map_async\u001b[0m\u001b[0;34m(\u001b[0m\u001b[0mfunc\u001b[0m\u001b[0;34m,\u001b[0m \u001b[0miterable\u001b[0m\u001b[0;34m,\u001b[0m \u001b[0mmapstar\u001b[0m\u001b[0;34m,\u001b[0m \u001b[0mchunksize\u001b[0m\u001b[0;34m)\u001b[0m\u001b[0;34m.\u001b[0m\u001b[0mget\u001b[0m\u001b[0;34m(\u001b[0m\u001b[0;34m)\u001b[0m\u001b[0;34m\u001b[0m\u001b[0;34m\u001b[0m\u001b[0m\n\u001b[0m\u001b[1;32m    269\u001b[0m \u001b[0;34m\u001b[0m\u001b[0m\n\u001b[1;32m    270\u001b[0m     \u001b[0;32mdef\u001b[0m \u001b[0mstarmap\u001b[0m\u001b[0;34m(\u001b[0m\u001b[0mself\u001b[0m\u001b[0;34m,\u001b[0m \u001b[0mfunc\u001b[0m\u001b[0;34m,\u001b[0m \u001b[0miterable\u001b[0m\u001b[0;34m,\u001b[0m \u001b[0mchunksize\u001b[0m\u001b[0;34m=\u001b[0m\u001b[0;32mNone\u001b[0m\u001b[0;34m)\u001b[0m\u001b[0;34m:\u001b[0m\u001b[0;34m\u001b[0m\u001b[0;34m\u001b[0m\u001b[0m\n",
            "\u001b[0;32m/usr/lib/python3.7/multiprocessing/pool.py\u001b[0m in \u001b[0;36mget\u001b[0;34m(self, timeout)\u001b[0m\n\u001b[1;32m    649\u001b[0m \u001b[0;34m\u001b[0m\u001b[0m\n\u001b[1;32m    650\u001b[0m     \u001b[0;32mdef\u001b[0m \u001b[0mget\u001b[0m\u001b[0;34m(\u001b[0m\u001b[0mself\u001b[0m\u001b[0;34m,\u001b[0m \u001b[0mtimeout\u001b[0m\u001b[0;34m=\u001b[0m\u001b[0;32mNone\u001b[0m\u001b[0;34m)\u001b[0m\u001b[0;34m:\u001b[0m\u001b[0;34m\u001b[0m\u001b[0;34m\u001b[0m\u001b[0m\n\u001b[0;32m--> 651\u001b[0;31m         \u001b[0mself\u001b[0m\u001b[0;34m.\u001b[0m\u001b[0mwait\u001b[0m\u001b[0;34m(\u001b[0m\u001b[0mtimeout\u001b[0m\u001b[0;34m)\u001b[0m\u001b[0;34m\u001b[0m\u001b[0;34m\u001b[0m\u001b[0m\n\u001b[0m\u001b[1;32m    652\u001b[0m         \u001b[0;32mif\u001b[0m \u001b[0;32mnot\u001b[0m \u001b[0mself\u001b[0m\u001b[0;34m.\u001b[0m\u001b[0mready\u001b[0m\u001b[0;34m(\u001b[0m\u001b[0;34m)\u001b[0m\u001b[0;34m:\u001b[0m\u001b[0;34m\u001b[0m\u001b[0;34m\u001b[0m\u001b[0m\n\u001b[1;32m    653\u001b[0m             \u001b[0;32mraise\u001b[0m \u001b[0mTimeoutError\u001b[0m\u001b[0;34m\u001b[0m\u001b[0;34m\u001b[0m\u001b[0m\n",
            "\u001b[0;32m/usr/lib/python3.7/multiprocessing/pool.py\u001b[0m in \u001b[0;36mwait\u001b[0;34m(self, timeout)\u001b[0m\n\u001b[1;32m    646\u001b[0m \u001b[0;34m\u001b[0m\u001b[0m\n\u001b[1;32m    647\u001b[0m     \u001b[0;32mdef\u001b[0m \u001b[0mwait\u001b[0m\u001b[0;34m(\u001b[0m\u001b[0mself\u001b[0m\u001b[0;34m,\u001b[0m \u001b[0mtimeout\u001b[0m\u001b[0;34m=\u001b[0m\u001b[0;32mNone\u001b[0m\u001b[0;34m)\u001b[0m\u001b[0;34m:\u001b[0m\u001b[0;34m\u001b[0m\u001b[0;34m\u001b[0m\u001b[0m\n\u001b[0;32m--> 648\u001b[0;31m         \u001b[0mself\u001b[0m\u001b[0;34m.\u001b[0m\u001b[0m_event\u001b[0m\u001b[0;34m.\u001b[0m\u001b[0mwait\u001b[0m\u001b[0;34m(\u001b[0m\u001b[0mtimeout\u001b[0m\u001b[0;34m)\u001b[0m\u001b[0;34m\u001b[0m\u001b[0;34m\u001b[0m\u001b[0m\n\u001b[0m\u001b[1;32m    649\u001b[0m \u001b[0;34m\u001b[0m\u001b[0m\n\u001b[1;32m    650\u001b[0m     \u001b[0;32mdef\u001b[0m \u001b[0mget\u001b[0m\u001b[0;34m(\u001b[0m\u001b[0mself\u001b[0m\u001b[0;34m,\u001b[0m \u001b[0mtimeout\u001b[0m\u001b[0;34m=\u001b[0m\u001b[0;32mNone\u001b[0m\u001b[0;34m)\u001b[0m\u001b[0;34m:\u001b[0m\u001b[0;34m\u001b[0m\u001b[0;34m\u001b[0m\u001b[0m\n",
            "\u001b[0;32m/usr/lib/python3.7/threading.py\u001b[0m in \u001b[0;36mwait\u001b[0;34m(self, timeout)\u001b[0m\n\u001b[1;32m    550\u001b[0m             \u001b[0msignaled\u001b[0m \u001b[0;34m=\u001b[0m \u001b[0mself\u001b[0m\u001b[0;34m.\u001b[0m\u001b[0m_flag\u001b[0m\u001b[0;34m\u001b[0m\u001b[0;34m\u001b[0m\u001b[0m\n\u001b[1;32m    551\u001b[0m             \u001b[0;32mif\u001b[0m \u001b[0;32mnot\u001b[0m \u001b[0msignaled\u001b[0m\u001b[0;34m:\u001b[0m\u001b[0;34m\u001b[0m\u001b[0;34m\u001b[0m\u001b[0m\n\u001b[0;32m--> 552\u001b[0;31m                 \u001b[0msignaled\u001b[0m \u001b[0;34m=\u001b[0m \u001b[0mself\u001b[0m\u001b[0;34m.\u001b[0m\u001b[0m_cond\u001b[0m\u001b[0;34m.\u001b[0m\u001b[0mwait\u001b[0m\u001b[0;34m(\u001b[0m\u001b[0mtimeout\u001b[0m\u001b[0;34m)\u001b[0m\u001b[0;34m\u001b[0m\u001b[0;34m\u001b[0m\u001b[0m\n\u001b[0m\u001b[1;32m    553\u001b[0m             \u001b[0;32mreturn\u001b[0m \u001b[0msignaled\u001b[0m\u001b[0;34m\u001b[0m\u001b[0;34m\u001b[0m\u001b[0m\n\u001b[1;32m    554\u001b[0m \u001b[0;34m\u001b[0m\u001b[0m\n",
            "\u001b[0;32m/usr/lib/python3.7/threading.py\u001b[0m in \u001b[0;36mwait\u001b[0;34m(self, timeout)\u001b[0m\n\u001b[1;32m    294\u001b[0m         \u001b[0;32mtry\u001b[0m\u001b[0;34m:\u001b[0m    \u001b[0;31m# restore state no matter what (e.g., KeyboardInterrupt)\u001b[0m\u001b[0;34m\u001b[0m\u001b[0;34m\u001b[0m\u001b[0m\n\u001b[1;32m    295\u001b[0m             \u001b[0;32mif\u001b[0m \u001b[0mtimeout\u001b[0m \u001b[0;32mis\u001b[0m \u001b[0;32mNone\u001b[0m\u001b[0;34m:\u001b[0m\u001b[0;34m\u001b[0m\u001b[0;34m\u001b[0m\u001b[0m\n\u001b[0;32m--> 296\u001b[0;31m                 \u001b[0mwaiter\u001b[0m\u001b[0;34m.\u001b[0m\u001b[0macquire\u001b[0m\u001b[0;34m(\u001b[0m\u001b[0;34m)\u001b[0m\u001b[0;34m\u001b[0m\u001b[0;34m\u001b[0m\u001b[0m\n\u001b[0m\u001b[1;32m    297\u001b[0m                 \u001b[0mgotit\u001b[0m \u001b[0;34m=\u001b[0m \u001b[0;32mTrue\u001b[0m\u001b[0;34m\u001b[0m\u001b[0;34m\u001b[0m\u001b[0m\n\u001b[1;32m    298\u001b[0m             \u001b[0;32melse\u001b[0m\u001b[0;34m:\u001b[0m\u001b[0;34m\u001b[0m\u001b[0;34m\u001b[0m\u001b[0m\n",
            "\u001b[0;31mKeyboardInterrupt\u001b[0m: "
          ]
        }
      ]
    },
    {
      "cell_type": "code",
      "metadata": {
        "colab": {
          "base_uri": "https://localhost:8080/"
        },
        "id": "Dw7MDZ18t2ty",
        "outputId": "d35e99d4-e4c2-4e81-b188-6215e310bc71"
      },
      "source": [
        "best_pair = None; best_min = 0\n",
        "for phenotype in phenotypes:\n",
        "  if phenotype[2] > best_min:\n",
        "    best_pair = phenotype; best_min = phenotype[2]\n",
        "print(best_pair)"
      ],
      "execution_count": null,
      "outputs": [
        {
          "output_type": "stream",
          "text": [
            "None\n"
          ],
          "name": "stdout"
        }
      ]
    },
    {
      "cell_type": "markdown",
      "metadata": {
        "id": "sD8iCe1f3ZK6"
      },
      "source": [
        "## double-KO results analysis"
      ]
    },
    {
      "cell_type": "markdown",
      "metadata": {
        "id": "w3tpHqNwNXDZ"
      },
      "source": [
        "Lets have a look at our best pair:"
      ]
    },
    {
      "cell_type": "code",
      "metadata": {
        "colab": {
          "base_uri": "https://localhost:8080/"
        },
        "id": "BFzTJHHgJjfm",
        "outputId": "083734ac-dc4f-416c-e074-209ab1700725"
      },
      "source": [
        "# ['ATPS4r', 'SUCDi', 0.37422987493311083, 14.312267245829135, 14.31226724582913]\n",
        "best_pair"
      ],
      "execution_count": null,
      "outputs": [
        {
          "output_type": "execute_result",
          "data": {
            "text/plain": [
              "[('ATPS4r', 'SUCDi'),\n",
              " 0.37422987493311083,\n",
              " 14.312267245829135,\n",
              " 14.31226724582913]"
            ]
          },
          "metadata": {
            "tags": []
          },
          "execution_count": 15
        }
      ]
    },
    {
      "cell_type": "markdown",
      "metadata": {
        "id": "Vx_MDaWkNb7x"
      },
      "source": [
        "Plot the WT (non-perturbed) production of biomass vs production of compound (black) and the reaction pair knockout (perturbed) production of biomass vs production of compound (red):"
      ]
    },
    {
      "cell_type": "code",
      "metadata": {
        "id": "99FPRJYa5Z5a"
      },
      "source": [
        "model = cobra.io.load_json_model('iIsor850.json') # Need a clean version\n",
        "baseline_growth = model.optimize().objective_value\n",
        "wild_xs = [] ; wild_ys = []\n",
        "bm_range = numpy.linspace(0, baseline_growth, 100)\n",
        "model.objective = molecule_of_interest\n",
        "for bm in bm_range:\n",
        "  model.reactions.get_by_id('Biomass_Isor').lower_bound = bm\n",
        "  model.reactions.get_by_id('Biomass_Isor').upper_bound = bm\n",
        "  sol = model.optimize()\n",
        "  if sol.status == 'optimal':\n",
        "    wild_xs.append(bm)\n",
        "    wild_ys.append(sol.objective_value)"
      ],
      "execution_count": null,
      "outputs": []
    },
    {
      "cell_type": "code",
      "metadata": {
        "id": "VYkTNxblAnNE"
      },
      "source": [
        "mins = []; maxs=[]\n",
        "test_model = cobra.io.load_json_model('iIsor850.json') \n",
        "test_model.remove_reactions([best_pair[0][0], best_pair[0][1]])\n",
        "sol_test = test_model.optimize().objective_value\n",
        "\n",
        "sol_test_range = numpy.linspace(0, sol_test, 25)\n",
        "test_model.objective = molecule_of_interest \n",
        "for bm in sol_test_range:\n",
        "  test_model.reactions.get_by_id('Biomass_Isor').lower_bound = bm\n",
        "  maxs.append(test_model.optimize(objective_sense='maximize').objective_value)\n",
        "  mins.append(test_model.optimize(objective_sense='minimize').objective_value)"
      ],
      "execution_count": null,
      "outputs": []
    },
    {
      "cell_type": "code",
      "metadata": {
        "colab": {
          "base_uri": "https://localhost:8080/",
          "height": 420
        },
        "id": "c_GeGnCo41n8",
        "outputId": "19dd4833-a3ba-4364-b4fe-a51ab76a8c62"
      },
      "source": [
        "matplotlib.pyplot.figure(figsize=(9, 6))\n",
        "\n",
        "matplotlib.pyplot.plot(wild_xs, wild_ys, color='black', lw=2, alpha=0.5)\n",
        "matplotlib.pyplot.plot(sol_test_range, mins, 'o-', color='red', lw=2, alpha=0.5)\n",
        "matplotlib.pyplot.plot(sol_test_range, maxs, 'o-', color='red', lw=2, alpha=0.5)\n",
        "\n",
        "matplotlib.pyplot.xlabel('Biomass Biomass_Isor')\n",
        "matplotlib.pyplot.ylabel('EX_fum_e')\n",
        "matplotlib.pyplot.title('Reaction pair: ' + best_pair[0][0]+ ' and ' + best_pair[0][1])\n",
        "\n",
        "matplotlib.pyplot.grid(alpha=0.5, ls=':')\n",
        "matplotlib.pyplot.tight_layout()\n",
        "matplotlib.pyplot.show()"
      ],
      "execution_count": null,
      "outputs": [
        {
          "output_type": "display_data",
          "data": {
            "image/png": "[encoded data removed]",
            "text/plain": [
              "<Figure size 648x432 with 1 Axes>"
            ]
          },
          "metadata": {
            "tags": [],
            "needs_background": "light"
          }
        }
      ]
    }
  ]
}