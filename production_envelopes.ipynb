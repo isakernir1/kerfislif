{
  "nbformat": 4,
  "nbformat_minor": 0,
  "metadata": {
    "colab": {
      "name": "production envelopes",
      "provenance": [],
      "include_colab_link": true
    },
    "kernelspec": {
      "name": "python3",
      "display_name": "Python 3"
    },
    "language_info": {
      "name": "python"
    }
  },
  "cells": [
    {
      "cell_type": "markdown",
      "metadata": {
        "id": "view-in-github",
        "colab_type": "text"
      },
      "source": [
        "<a href=\"https://colab.research.google.com/github/isakernir1/kerfislif/blob/main/production_envelopes.ipynb\" target=\"_parent\"><img src=\"https://colab.research.google.com/assets/colab-badge.svg\" alt=\"Open In Colab\"/></a>"
      ]
    },
    {
      "cell_type": "code",
      "metadata": {
        "colab": {
          "base_uri": "https://localhost:8080/"
        },
        "id": "kwL3pYLzpBYU",
        "outputId": "cd1e9ee0-4f89-4c0b-d782-dc818d0f0cb5"
      },
      "source": [
        "!pip install rich==6.2.0\n",
        "!pip install cobra\n",
        "import cobra.test\n",
        "from cobra import Model, Reaction, Metabolite\n",
        "from cobra.util.solver import linear_reaction_coefficients\n",
        "from cobra.flux_analysis import flux_variability_analysis\n",
        "from cobra import sampling "
      ],
      "execution_count": null,
      "outputs": [
        {
          "output_type": "stream",
          "text": [
            "Collecting rich==6.2.0\n",
            "\u001b[?25l  Downloading https://files.pythonhosted.org/packages/58/2c/d04cb7fa7fdf8c89f3bc79b859b74f283369f78dc8caae3e1b91acc1d624/rich-6.2.0-py3-none-any.whl (150kB)\n",
            "\r\u001b[K     |██▏                             | 10kB 13.1MB/s eta 0:00:01\r\u001b[K     |████▍                           | 20kB 15.1MB/s eta 0:00:01\r\u001b[K     |██████▌                         | 30kB 10.9MB/s eta 0:00:01\r\u001b[K     |████████▊                       | 40kB 12.8MB/s eta 0:00:01\r\u001b[K     |███████████                     | 51kB 9.3MB/s eta 0:00:01\r\u001b[K     |█████████████                   | 61kB 8.6MB/s eta 0:00:01\r\u001b[K     |███████████████▎                | 71kB 9.1MB/s eta 0:00:01\r\u001b[K     |█████████████████▌              | 81kB 10.1MB/s eta 0:00:01\r\u001b[K     |███████████████████▋            | 92kB 9.7MB/s eta 0:00:01\r\u001b[K     |█████████████████████▉          | 102kB 8.7MB/s eta 0:00:01\r\u001b[K     |████████████████████████        | 112kB 8.7MB/s eta 0:00:01\r\u001b[K     |██████████████████████████▏     | 122kB 8.7MB/s eta 0:00:01\r\u001b[K     |████████████████████████████▍   | 133kB 8.7MB/s eta 0:00:01\r\u001b[K     |██████████████████████████████▋ | 143kB 8.7MB/s eta 0:00:01\r\u001b[K     |████████████████████████████████| 153kB 8.7MB/s \n",
            "\u001b[?25hRequirement already satisfied: typing-extensions<4.0.0,>=3.7.4 in /usr/local/lib/python3.7/dist-packages (from rich==6.2.0) (3.7.4.3)\n",
            "Requirement already satisfied: pygments<3.0.0,>=2.6.0 in /usr/local/lib/python3.7/dist-packages (from rich==6.2.0) (2.6.1)\n",
            "Collecting commonmark<0.10.0,>=0.9.0\n",
            "\u001b[?25l  Downloading https://files.pythonhosted.org/packages/b1/92/dfd892312d822f36c55366118b95d914e5f16de11044a27cf10a7d71bbbf/commonmark-0.9.1-py2.py3-none-any.whl (51kB)\n",
            "\r\u001b[K     |██████▍                         | 10kB 19.7MB/s eta 0:00:01\r\u001b[K     |████████████▉                   | 20kB 27.6MB/s eta 0:00:01\r\u001b[K     |███████████████████▎            | 30kB 31.1MB/s eta 0:00:01\r\u001b[K     |█████████████████████████▋      | 40kB 27.3MB/s eta 0:00:01\r\u001b[K     |████████████████████████████████| 51kB 5.8MB/s \n",
            "\u001b[?25hCollecting colorama<0.5.0,>=0.4.0\n",
            "  Downloading https://files.pythonhosted.org/packages/44/98/5b86278fbbf250d239ae0ecb724f8572af1c91f4a11edf4d36a206189440/colorama-0.4.4-py2.py3-none-any.whl\n",
            "Installing collected packages: commonmark, colorama, rich\n",
            "Successfully installed colorama-0.4.4 commonmark-0.9.1 rich-6.2.0\n",
            "Collecting cobra\n",
            "\u001b[?25l  Downloading https://files.pythonhosted.org/packages/9c/c0/bea19dbbe6e4907a591272100717f491b82ff8a485b4ff1528182532bbcf/cobra-0.21.0-py2.py3-none-any.whl (2.4MB)\n",
            "\u001b[K     |████████████████████████████████| 2.4MB 8.0MB/s \n",
            "\u001b[?25hRequirement already satisfied: pandas~=1.0 in /usr/local/lib/python3.7/dist-packages (from cobra) (1.1.5)\n",
            "Collecting diskcache~=5.0\n",
            "\u001b[?25l  Downloading https://files.pythonhosted.org/packages/6a/5e/3deb8f9c83bead2af6f2cda97c4400516488464fede2853875a81e502953/diskcache-5.2.1-py3-none-any.whl (44kB)\n",
            "\u001b[K     |████████████████████████████████| 51kB 6.6MB/s \n",
            "\u001b[?25hCollecting optlang<1.4.6\n",
            "\u001b[?25l  Downloading https://files.pythonhosted.org/packages/5b/6a/25e8c4a0b487e5e23b968942e85a52e3072b38ddb3619e52e89c2e822d65/optlang-1.4.4-py2.py3-none-any.whl (125kB)\n",
            "\u001b[K     |████████████████████████████████| 133kB 32.7MB/s \n",
            "\u001b[?25hRequirement already satisfied: six in /usr/local/lib/python3.7/dist-packages (from cobra) (1.15.0)\n",
            "Requirement already satisfied: future in /usr/local/lib/python3.7/dist-packages (from cobra) (0.16.0)\n",
            "Requirement already satisfied: importlib-resources in /usr/local/lib/python3.7/dist-packages (from cobra) (5.1.2)\n",
            "Requirement already satisfied: numpy~=1.13 in /usr/local/lib/python3.7/dist-packages (from cobra) (1.19.5)\n",
            "Collecting httpx~=0.14\n",
            "\u001b[?25l  Downloading https://files.pythonhosted.org/packages/6f/87/241b482701ba3d58831a4af50bf2880259dc7c11a89504a3b0d70fa298cd/httpx-0.17.1-py3-none-any.whl (68kB)\n",
            "\u001b[K     |████████████████████████████████| 71kB 8.5MB/s \n",
            "\u001b[?25hCollecting depinfo\n",
            "  Downloading https://files.pythonhosted.org/packages/af/8b/cee6dca4c4708705444c9cad9e783b9212cc51cab8a5e05ccfe930f53058/depinfo-1.7.0-py2.py3-none-any.whl\n",
            "Collecting python-libsbml==5.19.0\n",
            "\u001b[?25l  Downloading https://files.pythonhosted.org/packages/93/13/2df22b77ee9125381a00aa4dc63de1776bb84d773655d2770416e81416cd/python_libsbml-5.19.0-cp37-cp37m-manylinux1_x86_64.whl (6.2MB)\n",
            "\u001b[K     |████████████████████████████████| 6.2MB 17.3MB/s \n",
            "\u001b[?25hCollecting swiglpk\n",
            "\u001b[?25l  Downloading https://files.pythonhosted.org/packages/80/48/ff3ce61567f667629268b272d4c57f980ff0a8d4bdf991a593be12384186/swiglpk-5.0.3-cp37-cp37m-manylinux2010_x86_64.whl (2.1MB)\n",
            "\u001b[K     |████████████████████████████████| 2.1MB 51.4MB/s \n",
            "\u001b[?25hRequirement already satisfied: rich~=6.0 in /usr/local/lib/python3.7/dist-packages (from cobra) (6.2.0)\n",
            "Requirement already satisfied: appdirs~=1.4 in /usr/local/lib/python3.7/dist-packages (from cobra) (1.4.4)\n",
            "Collecting pydantic~=1.6\n",
            "\u001b[?25l  Downloading https://files.pythonhosted.org/packages/2b/a3/0ffdb6c63f45f10d19b8e8b32670b22ed089cafb29732f6bf8ce518821fb/pydantic-1.8.1-cp37-cp37m-manylinux2014_x86_64.whl (10.1MB)\n",
            "\u001b[K     |████████████████████████████████| 10.1MB 47.1MB/s \n",
            "\u001b[?25hCollecting ruamel.yaml~=0.16\n",
            "\u001b[?25l  Downloading https://files.pythonhosted.org/packages/29/4e/c3105bbbbc662f6a671a505f00ec771e93b5254f09fbb06002af9087071a/ruamel.yaml-0.17.4-py3-none-any.whl (101kB)\n",
            "\u001b[K     |████████████████████████████████| 102kB 10.2MB/s \n",
            "\u001b[?25hRequirement already satisfied: python-dateutil>=2.7.3 in /usr/local/lib/python3.7/dist-packages (from pandas~=1.0->cobra) (2.8.1)\n",
            "Requirement already satisfied: pytz>=2017.2 in /usr/local/lib/python3.7/dist-packages (from pandas~=1.0->cobra) (2018.9)\n",
            "Requirement already satisfied: sympy>=1.0.0 in /usr/local/lib/python3.7/dist-packages (from optlang<1.4.6->cobra) (1.7.1)\n",
            "Requirement already satisfied: zipp>=0.4; python_version < \"3.8\" in /usr/local/lib/python3.7/dist-packages (from importlib-resources->cobra) (3.4.1)\n",
            "Collecting sniffio\n",
            "  Downloading https://files.pythonhosted.org/packages/52/b0/7b2e028b63d092804b6794595871f936aafa5e9322dcaaad50ebf67445b3/sniffio-1.2.0-py3-none-any.whl\n",
            "Collecting httpcore<0.13,>=0.12.1\n",
            "\u001b[?25l  Downloading https://files.pythonhosted.org/packages/50/ce/544244e2145075896d38f7db3e822c24d1be9f7966ed3d83f158e388d195/httpcore-0.12.3-py3-none-any.whl (55kB)\n",
            "\u001b[K     |████████████████████████████████| 61kB 7.3MB/s \n",
            "\u001b[?25hRequirement already satisfied: certifi in /usr/local/lib/python3.7/dist-packages (from httpx~=0.14->cobra) (2020.12.5)\n",
            "Collecting rfc3986[idna2008]<2,>=1.3\n",
            "  Downloading https://files.pythonhosted.org/packages/78/be/7b8b99fd74ff5684225f50dd0e865393d2265656ef3b4ba9eaaaffe622b8/rfc3986-1.4.0-py2.py3-none-any.whl\n",
            "Requirement already satisfied: importlib-metadata; python_version < \"3.8\" in /usr/local/lib/python3.7/dist-packages (from depinfo->cobra) (3.8.1)\n",
            "Requirement already satisfied: commonmark<0.10.0,>=0.9.0 in /usr/local/lib/python3.7/dist-packages (from rich~=6.0->cobra) (0.9.1)\n",
            "Requirement already satisfied: colorama<0.5.0,>=0.4.0 in /usr/local/lib/python3.7/dist-packages (from rich~=6.0->cobra) (0.4.4)\n",
            "Requirement already satisfied: typing-extensions<4.0.0,>=3.7.4 in /usr/local/lib/python3.7/dist-packages (from rich~=6.0->cobra) (3.7.4.3)\n",
            "Requirement already satisfied: pygments<3.0.0,>=2.6.0 in /usr/local/lib/python3.7/dist-packages (from rich~=6.0->cobra) (2.6.1)\n",
            "Collecting ruamel.yaml.clib>=0.1.2; platform_python_implementation == \"CPython\" and python_version < \"3.10\"\n",
            "\u001b[?25l  Downloading https://files.pythonhosted.org/packages/5e/6e/f652c56bbb2c3d3fca252ffc7c0358597f57a1bbdf484dac683054950c63/ruamel.yaml.clib-0.2.2-cp37-cp37m-manylinux1_x86_64.whl (547kB)\n",
            "\u001b[K     |████████████████████████████████| 552kB 44.0MB/s \n",
            "\u001b[?25hRequirement already satisfied: mpmath>=0.19 in /usr/local/lib/python3.7/dist-packages (from sympy>=1.0.0->optlang<1.4.6->cobra) (1.2.1)\n",
            "Collecting h11==0.*\n",
            "\u001b[?25l  Downloading https://files.pythonhosted.org/packages/60/0f/7a0eeea938eaf61074f29fed9717f2010e8d0e0905d36b38d3275a1e4622/h11-0.12.0-py3-none-any.whl (54kB)\n",
            "\u001b[K     |████████████████████████████████| 61kB 7.5MB/s \n",
            "\u001b[?25hRequirement already satisfied: idna; extra == \"idna2008\" in /usr/local/lib/python3.7/dist-packages (from rfc3986[idna2008]<2,>=1.3->httpx~=0.14->cobra) (2.10)\n",
            "Installing collected packages: diskcache, swiglpk, optlang, sniffio, h11, httpcore, rfc3986, httpx, depinfo, python-libsbml, pydantic, ruamel.yaml.clib, ruamel.yaml, cobra\n",
            "Successfully installed cobra-0.21.0 depinfo-1.7.0 diskcache-5.2.1 h11-0.12.0 httpcore-0.12.3 httpx-0.17.1 optlang-1.4.4 pydantic-1.8.1 python-libsbml-5.19.0 rfc3986-1.4.0 ruamel.yaml-0.17.4 ruamel.yaml.clib-0.2.2 sniffio-1.2.0 swiglpk-5.0.3\n"
          ],
          "name": "stdout"
        }
      ]
    },
    {
      "cell_type": "code",
      "metadata": {
        "id": "Az8seZ01rE3-"
      },
      "source": [
        "import numpy\n",
        "import matplotlib, matplotlib.pyplot\n",
        "# some matplotlib parameters to make figures look nice\n",
        "matplotlib.rcParams.update({'font.size':20, 'font.family':'sans-serif', 'xtick.labelsize':20, 'ytick.labelsize':20, 'axes.labelsize':20})"
      ],
      "execution_count": null,
      "outputs": []
    },
    {
      "cell_type": "code",
      "metadata": {
        "id": "OekHgWiOrMNL"
      },
      "source": [
        "model = cobra.io.load_json_model('iIsor850.json')"
      ],
      "execution_count": null,
      "outputs": []
    },
    {
      "cell_type": "code",
      "metadata": {
        "colab": {
          "base_uri": "https://localhost:8080/"
        },
        "id": "IfyXBhBA0Rpa",
        "outputId": "e6b0f35b-efaf-4c0c-ddab-3c764e9679d0"
      },
      "source": [
        "model.reactions.get_by_id(\"FUM_c\").lower_bound = 0\n",
        "model.reactions.get_by_id(\"FUM_c\").upper_bound = 0\n",
        "model.reactions.get_by_id(\"THRA_c\").lower_bound = 0\n",
        "model.reactions.get_by_id(\"THRA_c\").upper_bound = 0\n",
        "\n",
        "sol = model.optimize()\n",
        "\n",
        "if sol.status != 'optimal':\n",
        "  Vbio_max = 0\n",
        "else:\n",
        "  Vbio_max = sol.objective_value\n",
        "\n",
        "print(Vbio_max)"
      ],
      "execution_count": null,
      "outputs": [
        {
          "output_type": "stream",
          "text": [
            "0.9855615777673494\n"
          ],
          "name": "stdout"
        }
      ]
    },
    {
      "cell_type": "markdown",
      "metadata": {
        "id": "Ol8dFoXO8rB0"
      },
      "source": [
        "**0.9855615777673494 is the maximum growth rate when FUM_c and THRA_c are knocked out**"
      ]
    },
    {
      "cell_type": "code",
      "metadata": {
        "colab": {
          "base_uri": "https://localhost:8080/"
        },
        "id": "sozzOnvA5zh8",
        "outputId": "b682e1a6-3cf4-4da2-b4e0-cca601aacbd7"
      },
      "source": [
        "\n",
        "model.objective = \"EX_fum_e\" #set objective to target given chemical\n",
        "model.reactions.get_by_id('Biomass_Isor').lower_bound = Vbio_max\n",
        "maximum = model.optimize(objective_sense='maximize').objective_value\n",
        "minimum = model.optimize(objective_sense='minimize').objective_value\n",
        "\n",
        "phenotype = [Vbio_max, minimum, maximum]\n",
        "print(phenotype)"
      ],
      "execution_count": null,
      "outputs": [
        {
          "output_type": "stream",
          "text": [
            "[0.9855615777673494, 0.7900320741071316, 0.7900320741078791]\n"
          ],
          "name": "stdout"
        }
      ]
    },
    {
      "cell_type": "markdown",
      "metadata": {
        "id": "IO3rZh1C7-fr"
      },
      "source": [
        "**The numbers here above are the same as in the results from running all the double KOs (I did ths to make sure I was using the code correctly before finding the WT production rate)**\n",
        "\n",
        "**Next I ran the same code, except for removing the two reactions (FUM_c and THRA_c, to see fumarate production in the WT model**"
      ]
    },
    {
      "cell_type": "code",
      "metadata": {
        "id": "uTlQHL0W6H2G"
      },
      "source": [
        "modelWT = cobra.io.load_json_model('iIsor850.json')"
      ],
      "execution_count": null,
      "outputs": []
    },
    {
      "cell_type": "code",
      "metadata": {
        "colab": {
          "base_uri": "https://localhost:8080/"
        },
        "id": "2dB4vY7s6N-_",
        "outputId": "a8d0f987-a690-4ff6-bbdc-79f92795b45c"
      },
      "source": [
        "sol = modelWT.optimize()\n",
        "\n",
        "if sol.status != 'optimal':\n",
        "  Vbio_max = 0\n",
        "else:\n",
        "  Vbio_max = sol.objective_value\n",
        "\n",
        "print(Vbio_max)"
      ],
      "execution_count": null,
      "outputs": [
        {
          "output_type": "stream",
          "text": [
            "1.0331402662636093\n"
          ],
          "name": "stdout"
        }
      ]
    },
    {
      "cell_type": "code",
      "metadata": {
        "colab": {
          "base_uri": "https://localhost:8080/"
        },
        "id": "zO9brV_m6WQ_",
        "outputId": "4e09c02f-a906-4027-98db-5b7fcd166103"
      },
      "source": [
        "modelWT.objective = \"EX_fum_e\" #set objective to target given chemical\n",
        "modelWT.reactions.get_by_id('Biomass_Isor').lower_bound = Vbio_max\n",
        "maximum = modelWT.optimize(objective_sense='maximize').objective_value\n",
        "minimum = modelWT.optimize(objective_sense='minimize').objective_value\n",
        "\n",
        "phenotype = [Vbio_max, minimum, maximum]\n",
        "print(phenotype)"
      ],
      "execution_count": null,
      "outputs": [
        {
          "output_type": "stream",
          "text": [
            "[1.0331402662636093, 0.0, 8.198827152662102e-14]\n"
          ],
          "name": "stdout"
        }
      ]
    },
    {
      "cell_type": "markdown",
      "metadata": {
        "id": "8hD5xIez8UMT"
      },
      "source": [
        "**The WT production of fumarate is very low**"
      ]
    },
    {
      "cell_type": "code",
      "metadata": {
        "id": "a8D4IyxO9gsG"
      },
      "source": [
        "model_fum_c = cobra.io.load_json_model('iIsor850.json')"
      ],
      "execution_count": null,
      "outputs": []
    },
    {
      "cell_type": "code",
      "metadata": {
        "colab": {
          "base_uri": "https://localhost:8080/"
        },
        "id": "E76oN6wT9kfa",
        "outputId": "98bcc169-ead7-491b-a153-5075c89ca485"
      },
      "source": [
        "model_fum_c.reactions.get_by_id(\"FUM_c\").lower_bound = 0\n",
        "model_fum_c.reactions.get_by_id(\"FUM_c\").upper_bound = 0\n",
        "\n",
        "sol = model_fum_c.optimize()\n",
        "\n",
        "if sol.status != 'optimal':\n",
        "  Vbio_max = 0\n",
        "else:\n",
        "  Vbio_max = sol.objective_value\n",
        "\n",
        "print(Vbio_max)"
      ],
      "execution_count": null,
      "outputs": [
        {
          "output_type": "stream",
          "text": [
            "1.0074294546191318\n"
          ],
          "name": "stdout"
        }
      ]
    },
    {
      "cell_type": "code",
      "metadata": {
        "colab": {
          "base_uri": "https://localhost:8080/"
        },
        "id": "-Z1GCaal9uzb",
        "outputId": "bcbd6a77-3642-4556-b132-5732e22b7acc"
      },
      "source": [
        "model_fum_c.objective = \"EX_fum_e\" #set objective to target given chemical\n",
        "model_fum_c.reactions.get_by_id('Biomass_Isor').lower_bound = Vbio_max\n",
        "maximum = model_fum_c.optimize(objective_sense='maximize').objective_value\n",
        "minimum = model_fum_c.optimize(objective_sense='minimize').objective_value\n",
        "\n",
        "phenotype = [Vbio_max, minimum, maximum]\n",
        "print(phenotype)"
      ],
      "execution_count": null,
      "outputs": [
        {
          "output_type": "stream",
          "text": [
            "[1.0074294546191318, 0.4457663776466847, 0.44576637765063076]\n"
          ],
          "name": "stdout"
        }
      ]
    },
    {
      "cell_type": "code",
      "metadata": {
        "id": "HUYflYoZYSXQ"
      },
      "source": [
        "model_THRA_c = cobra.io.load_json_model('iIsor850.json')"
      ],
      "execution_count": null,
      "outputs": []
    },
    {
      "cell_type": "code",
      "metadata": {
        "colab": {
          "base_uri": "https://localhost:8080/"
        },
        "id": "WFp_llKYYZhK",
        "outputId": "300780be-eecc-4b41-8394-a5018f65412c"
      },
      "source": [
        "model_THRA_c.reactions.get_by_id(\"THRA_c\").lower_bound = 0\n",
        "model_THRA_c.reactions.get_by_id(\"THRA_c\").upper_bound = 0\n",
        "\n",
        "sol = model_THRA_c.optimize()\n",
        "\n",
        "if sol.status != 'optimal':\n",
        "  Vbio_max = 0\n",
        "else:\n",
        "  Vbio_max = sol.objective_value\n",
        "\n",
        "print(Vbio_max)"
      ],
      "execution_count": null,
      "outputs": [
        {
          "output_type": "stream",
          "text": [
            "1.0331402662636033\n"
          ],
          "name": "stdout"
        }
      ]
    },
    {
      "cell_type": "code",
      "metadata": {
        "colab": {
          "base_uri": "https://localhost:8080/"
        },
        "id": "iqOJJx_oYgMs",
        "outputId": "8090feef-e4f3-4423-bea4-955f40813369"
      },
      "source": [
        "model_THRA_c.objective = \"EX_fum_e\" #set objective to target given chemical\n",
        "model_THRA_c.reactions.get_by_id('Biomass_Isor').lower_bound = Vbio_max\n",
        "maximum = model_THRA_c.optimize(objective_sense='maximize').objective_value\n",
        "minimum = model_THRA_c.optimize(objective_sense='minimize').objective_value\n",
        "\n",
        "phenotype = [Vbio_max, minimum, maximum]\n",
        "print(phenotype)"
      ],
      "execution_count": null,
      "outputs": [
        {
          "output_type": "stream",
          "text": [
            "[1.0331402662636033, 0.0, -1.0952160921326462e-13]\n"
          ],
          "name": "stdout"
        }
      ]
    },
    {
      "cell_type": "code",
      "metadata": {
        "id": "mu25nEUTeCiy"
      },
      "source": [
        "model = cobra.io.load_json_model('iIsor850.json')\n",
        "baseline_growth = model.optimize().objective_value\n",
        "wild_xs = [] ; wild_ys = []\n",
        "bm_range = numpy.linspace(0, baseline_growth, 100)\n",
        "model.objective = \"EX_fum_e\"\n",
        "for bm in bm_range:\n",
        "  model.reactions.get_by_id('Biomass_Isor').lower_bound = bm\n",
        "  model.reactions.get_by_id('Biomass_Isor').upper_bound = bm\n",
        "  sol = model.optimize()\n",
        "  if sol.status == 'optimal':\n",
        "    wild_xs.append(bm)\n",
        "    wild_ys.append(sol.objective_value)"
      ],
      "execution_count": null,
      "outputs": []
    },
    {
      "cell_type": "code",
      "metadata": {
        "id": "vs04uXNkejQ5"
      },
      "source": [
        "mins = []; maxs=[]\n",
        "test_model = cobra.io.load_json_model('iIsor850.json')\n",
        "#test_model.remove_reactions(\"FUM_c\", \"THRA_c\")\n",
        "sol_test = test_model.optimize().objective_value\n",
        "\n",
        "sol_test_range = numpy.linspace(0, sol_test, 25)\n",
        "test_model.objective = \"EX_fum_e\" \n",
        "for bm in sol_test_range:\n",
        "  test_model.reactions.get_by_id('Biomass_Isor').lower_bound = bm\n",
        "  maxs.append(test_model.optimize(objective_sense='maximize').objective_value)\n",
        "  mins.append(test_model.optimize(objective_sense='minimize').objective_value)"
      ],
      "execution_count": null,
      "outputs": []
    },
    {
      "cell_type": "code",
      "metadata": {
        "colab": {
          "base_uri": "https://localhost:8080/",
          "height": 420
        },
        "id": "nEI37iMnegkR",
        "outputId": "4481c388-36da-41ec-c052-101f2f024223"
      },
      "source": [
        "matplotlib.pyplot.figure(figsize=(9, 6))\n",
        "\n",
        "matplotlib.pyplot.plot(wild_xs, wild_ys, color='black', lw=2, alpha=0.5)\n",
        "matplotlib.pyplot.plot(sol_test_range, mins, 'o-', color='red', lw=2, alpha=0.5)\n",
        "matplotlib.pyplot.plot(sol_test_range, maxs, 'o-', color='red', lw=2, alpha=0.5)\n",
        "\n",
        "matplotlib.pyplot.xlabel('Biomass production')\n",
        "matplotlib.pyplot.ylabel('EX_fum_e')\n",
        "matplotlib.pyplot.title('Reaction pair: ' + \"FUM_c\"+ ' and ' + \"THRA_c\")\n",
        "\n",
        "matplotlib.pyplot.grid(alpha=0.5, ls=':')\n",
        "matplotlib.pyplot.tight_layout()\n",
        "matplotlib.pyplot.show()"
      ],
      "execution_count": null,
      "outputs": [
        {
          "output_type": "display_data",
          "data": {
            "image/png": "[encoded data removed]",
            "text/plain": [
              "<Figure size 648x432 with 1 Axes>"
            ]
          },
          "metadata": {
            "tags": [],
            "needs_background": "light"
          }
        }
      ]
    },
    {
      "cell_type": "code",
      "metadata": {
        "id": "I1LHMzbsgDrE",
        "colab": {
          "base_uri": "https://localhost:8080/",
          "height": 420
        },
        "outputId": "27583b21-58f3-49fb-986d-43a0d44feddb"
      },
      "source": [
        "matplotlib.pyplot.figure(figsize=(9, 6))\n",
        "\n",
        "matplotlib.pyplot.plot(wild_xs, wild_ys, color='black', lw=2, alpha=0.5)\n",
        "matplotlib.pyplot.plot(sol_test_range, mins, 'o-', color='red', lw=2, alpha=0.5)\n",
        "matplotlib.pyplot.plot(sol_test_range, maxs, 'o-', color='red', lw=2, alpha=0.5)\n",
        "\n",
        "matplotlib.pyplot.xlabel('Biomass production')\n",
        "matplotlib.pyplot.ylabel('EX_fum_e')\n",
        "matplotlib.pyplot.title(\"Wild-type\")\n",
        "\n",
        "matplotlib.pyplot.grid(alpha=0.5, ls=':')\n",
        "matplotlib.pyplot.tight_layout()\n",
        "matplotlib.pyplot.show()"
      ],
      "execution_count": null,
      "outputs": [
        {
          "output_type": "display_data",
          "data": {
            "image/png": "[encoded data removed]",
            "text/plain": [
              "<Figure size 648x432 with 1 Axes>"
            ]
          },
          "metadata": {
            "tags": [],
            "needs_background": "light"
          }
        }
      ]
    }
  ]
}